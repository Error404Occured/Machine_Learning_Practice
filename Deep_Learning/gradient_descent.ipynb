{
 "cells": [
  {
   "cell_type": "markdown",
   "metadata": {},
   "source": [
    "### Example 1"
   ]
  },
  {
   "cell_type": "code",
   "execution_count": 1,
   "metadata": {},
   "outputs": [],
   "source": [
    "import numpy as np"
   ]
  },
  {
   "cell_type": "code",
   "execution_count": 2,
   "metadata": {},
   "outputs": [],
   "source": [
    "# Define objective function\n",
    "def objective_function(x):\n",
    "    # Example function: f(x) = (x-2)^2\n",
    "    return (x-2)**2"
   ]
  },
  {
   "cell_type": "code",
   "execution_count": 3,
   "metadata": {},
   "outputs": [],
   "source": [
    "# Define the gradient of the objective function\n",
    "def gradient(x):\n",
    "    # Gradient of f(x) = 2*(x-2)\n",
    "    return 2*(x-2)"
   ]
  },
  {
   "cell_type": "code",
   "execution_count": 4,
   "metadata": {},
   "outputs": [],
   "source": [
    "# Set hyperparameters\n",
    "learning_rate = 0.1\n",
    "num_iterations = 1000\n",
    "\n",
    "# Initialize the parameter (stratig point)\n",
    "x = 0"
   ]
  },
  {
   "cell_type": "code",
   "execution_count": 5,
   "metadata": {},
   "outputs": [
    {
     "name": "stdout",
     "output_type": "stream",
     "text": [
      "Optimized solution: 1.9999999999999996\n",
      "Objective function value: 1.9721522630525295e-31\n"
     ]
    }
   ],
   "source": [
    "# Gradient descent optimization\n",
    "for iteration in range(num_iterations):\n",
    "    grad=gradient(x)\n",
    "    x = x - learning_rate*grad\n",
    "    \n",
    "print(\"Optimized solution:\", x)\n",
    "print(\"Objective function value:\", objective_function(x))"
   ]
  },
  {
   "cell_type": "markdown",
   "metadata": {},
   "source": [
    "### Example 2"
   ]
  },
  {
   "cell_type": "code",
   "execution_count": 8,
   "metadata": {},
   "outputs": [],
   "source": [
    "# Generate random data for demonstration \n",
    "np.random.seed(42)\n",
    "X = 2 * np.random.rand(100, 1) # Random values between 0 to 2\n",
    "y = 4 + 3*X + np.random.randn(100, 1) # Random target values with some noise \n",
    "\n",
    "# Add bias term to X\n",
    "X_b = np.c_[np.ones((100, 1)), X]"
   ]
  },
  {
   "cell_type": "code",
   "execution_count": 9,
   "metadata": {},
   "outputs": [],
   "source": [
    "# Set hyperparameters \n",
    "learning_rate = 0.01\n",
    "num_iterations = 1000\n",
    "\n",
    "# Initialize parameters\n",
    "theta = np.random.randn(2, 1) # Random initialization"
   ]
  },
  {
   "cell_type": "code",
   "execution_count": 10,
   "metadata": {},
   "outputs": [
    {
     "name": "stdout",
     "output_type": "stream",
     "text": [
      "Intercept: 4.158093763822134\n",
      "Slope: 2.8204434017416244\n"
     ]
    }
   ],
   "source": [
    "# Gradient descent\n",
    "\n",
    "for iteration in range(num_iterations):\n",
    "    gradients = 2 / len(X) * X_b.T.dot(X_b.dot(theta)-y)\n",
    "    theta = theta - learning_rate * gradients\n",
    "\n",
    "print(\"Intercept:\", theta[0][0])\n",
    "print(\"Slope:\", theta[1][0])"
   ]
  },
  {
   "cell_type": "code",
   "execution_count": null,
   "metadata": {},
   "outputs": [],
   "source": []
  }
 ],
 "metadata": {
  "kernelspec": {
   "display_name": "Python 3",
   "language": "python",
   "name": "python3"
  },
  "language_info": {
   "codemirror_mode": {
    "name": "ipython",
    "version": 3
   },
   "file_extension": ".py",
   "mimetype": "text/x-python",
   "name": "python",
   "nbconvert_exporter": "python",
   "pygments_lexer": "ipython3",
   "version": "3.12.2"
  }
 },
 "nbformat": 4,
 "nbformat_minor": 2
}
